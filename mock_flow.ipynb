{
 "cells": [
  {
   "cell_type": "markdown",
   "metadata": {},
   "source": [
    "# Pipeline Implementation\n",
    "\n",
    "This code will contain the implementation for our pipeline that combines both our object detection and our traffic prediction network"
   ]
  },
  {
   "cell_type": "code",
   "execution_count": null,
   "metadata": {},
   "outputs": [
    {
     "ename": "ImportError",
     "evalue": "cannot import name 'why_no_load' from 'object_detection.callable_implementation' (/home/brownjordan317/fall_2024/CSCI443/Github/CSCI-443/object_detection/callable_implementation.py)",
     "output_type": "error",
     "traceback": [
      "\u001b[0;31m---------------------------------------------------------------------------\u001b[0m",
      "\u001b[0;31mImportError\u001b[0m                               Traceback (most recent call last)",
      "Cell \u001b[0;32mIn[8], line 5\u001b[0m\n\u001b[1;32m      3\u001b[0m \u001b[38;5;28;01mfrom\u001b[39;00m \u001b[38;5;21;01mobject_detection\u001b[39;00m\u001b[38;5;21;01m.\u001b[39;00m\u001b[38;5;21;01mcallable_implementation\u001b[39;00m \u001b[38;5;28;01mimport\u001b[39;00m get_dt_info\n\u001b[1;32m      4\u001b[0m \u001b[38;5;28;01mfrom\u001b[39;00m \u001b[38;5;21;01mobject_detection\u001b[39;00m\u001b[38;5;21;01m.\u001b[39;00m\u001b[38;5;21;01mcallable_implementation\u001b[39;00m \u001b[38;5;28;01mimport\u001b[39;00m load_model\n\u001b[0;32m----> 5\u001b[0m \u001b[38;5;28;01mfrom\u001b[39;00m \u001b[38;5;21;01mobject_detection\u001b[39;00m\u001b[38;5;21;01m.\u001b[39;00m\u001b[38;5;21;01mcallable_implementation\u001b[39;00m \u001b[38;5;28;01mimport\u001b[39;00m why_no_load\n",
      "\u001b[0;31mImportError\u001b[0m: cannot import name 'why_no_load' from 'object_detection.callable_implementation' (/home/brownjordan317/fall_2024/CSCI443/Github/CSCI-443/object_detection/callable_implementation.py)"
     ]
    }
   ],
   "source": [
    "from object_detection.callable_implementation import write_csv\n",
    "from object_detection.callable_implementation import process_image\n",
    "from object_detection.callable_implementation import get_dt_info\n",
    "from object_detection.callable_implementation import load_model\n",
    "from object_detection.callable_implementation import load_tensor_img"
   ]
  },
  {
   "cell_type": "code",
   "execution_count": null,
   "metadata": {},
   "outputs": [],
   "source": []
  }
 ],
 "metadata": {
  "kernelspec": {
   "display_name": "Python 3",
   "language": "python",
   "name": "python3"
  },
  "language_info": {
   "codemirror_mode": {
    "name": "ipython",
    "version": 3
   },
   "file_extension": ".py",
   "mimetype": "text/x-python",
   "name": "python",
   "nbconvert_exporter": "python",
   "pygments_lexer": "ipython3",
   "version": "3.10.12"
  }
 },
 "nbformat": 4,
 "nbformat_minor": 2
}
