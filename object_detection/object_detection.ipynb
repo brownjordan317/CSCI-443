{
 "cells": [
  {
   "cell_type": "markdown",
   "metadata": {},
   "source": [
    "# Object Detection\n",
    "This notebook will serve as the primary means of documentation for creating an object detection model\n",
    "_______________________________________________________________________________________________________________________________________________\n",
    "\n",
    "### Full group includes:\n",
    "- Jordan Brown\n",
    "- Dylan Roy\n",
    "- Maxwell Barret\n",
    "- Julia Dewhurt\n",
    "\n",
    "### Primary notebook contributers:\n",
    "- \"\"\n",
    "- \"\"\n",
    "_______________________________________________________________________________________________________________________________________________\n",
    "\n",
    "***The primary notebook contributers are the group members who were assigned to this specific task. All group members will work in collaboration to create a final working product. However, the nature of this project calls for the full group to be assigned to primary tasks.***\n",
    "\n",
    "## Notebbook Goal/Purpose\n",
    "\n",
    "This notebook will be used to create a model for traffic based object detection. This will involve using labelled image and video feeds to determine what traffic objects look like. This model will hoepefully be able to detect and track traffic counts at individual intersections. This tracking will be used to create a dataset which can hopefully be used to train a traffic prediction for the traffic analysis portion of this project.\n",
    "_______________________________________________________________________________________________________________________________________________"
   ]
  },
  {
   "cell_type": "markdown",
   "metadata": {},
   "source": [
    "Code sells should use the following layout template\n",
    "```\n",
    "\"\"\"\n",
    "At the top will be a commment block\n",
    "this comment block will describe the\n",
    "primary purpose for the cells code.\n",
    "\"\"\"\n",
    "\n",
    "# A comment stating used libary(s)\n",
    "\n",
    "Code\n",
    "    Implementation\n",
    "        Goes\n",
    "            Here\n",
    "\n",
    "```"
   ]
  },
  {
   "cell_type": "code",
   "execution_count": 5,
   "metadata": {},
   "outputs": [],
   "source": [
    "\"\"\"\n",
    "This cell will contain the import statements for the notebook.\n",
    "\"\"\"\n",
    "from kaggle.api.kaggle_api_extended import KaggleApi\n",
    "import os\n",
    "import json\n",
    "import pandas as pd"
   ]
  },
  {
   "cell_type": "code",
   "execution_count": 6,
   "metadata": {},
   "outputs": [],
   "source": [
    "\"\"\"\n",
    "This cell will import the datasets that will be used in this project.\n",
    "\"\"\"\n",
    "\n",
    "# from kaggle.api.kaggle_api_extended import KaggleApi\n",
    "# import os\n",
    "\n",
    "# Initialize the API\n",
    "api = KaggleApi()\n",
    "api.authenticate()\n",
    "\n",
    "# Dataset details\n",
    "dataset = \"imtkaggleteam/city-intersection-computer-vision\"\n",
    "download_path = \"dataset\"  # Desired directory\n",
    "\n",
    "# Ensure the download path exists\n",
    "if not os.path.exists(download_path):\n",
    "    os.makedirs(download_path, exist_ok=True)\n",
    "\n",
    "    # Download the dataset\n",
    "    api.dataset_download_files(dataset, path=download_path, unzip=True)\n",
    "\n",
    "    print(f\"Dataset downloaded to: {os.path.abspath(download_path)}\")\n"
   ]
  },
  {
   "cell_type": "code",
   "execution_count": 7,
   "metadata": {},
   "outputs": [],
   "source": [
    "# a function that used for creation a coco json file from a csv file\n",
    "# original reference -> https://stackoverflow.com/questions/62545034/how-to-convert-a-csv-table-into-coco-format-in-python\n",
    "\n",
    "def create_csv_to_coco(path, save_json_path):\n",
    "    data = pd.read_csv(path)\n",
    "    data = data[['filename','class','width', 'height','xmin','ymin','xmax','ymax']]\n",
    "\n",
    "    images = []\n",
    "    categories = []\n",
    "    annotations = []\n",
    "\n",
    "    category = {}\n",
    "    category[\"supercategory\"] = 'none'\n",
    "    category[\"id\"] = 0\n",
    "    category[\"name\"] = 'None'\n",
    "    categories.append(category)\n",
    "\n",
    "    data['fileid'] = data['filename'].astype('category').cat.codes\n",
    "    data['categoryid']= pd.Categorical(data['class'],ordered= True).codes\n",
    "    data['categoryid'] = data['categoryid']+1\n",
    "    data['annid'] = data.index\n",
    "    \n",
    "    def image(row):\n",
    "        image = {}\n",
    "        image[\"height\"] = row.height\n",
    "        image[\"width\"] = row.width\n",
    "        image[\"id\"] = row.fileid\n",
    "        image[\"file_name\"] = row.filename\n",
    "        return image\n",
    "\n",
    "    def category(row):\n",
    "        category = {}\n",
    "        category[\"supercategory\"] = 'None'\n",
    "        category[\"id\"] = row.categoryid\n",
    "        category[\"name\"] = row[2]\n",
    "        return category\n",
    "\n",
    "    def annotation(row):\n",
    "        annotation = {}\n",
    "        area = (row.xmax -row.xmin)*(row.ymax - row.ymin)\n",
    "        annotation[\"segmentation\"] = []\n",
    "        annotation[\"iscrowd\"] = 0\n",
    "        annotation[\"area\"] = area\n",
    "        annotation[\"image_id\"] = row.fileid\n",
    "\n",
    "        annotation[\"bbox\"] = [row.xmin, row.ymin, row.xmax -row.xmin,row.ymax-row.ymin ]\n",
    "\n",
    "        annotation[\"category_id\"] = row.categoryid\n",
    "        annotation[\"id\"] = row.annid\n",
    "        return annotation\n",
    "\n",
    "    for row in data.itertuples():\n",
    "        annotations.append(annotation(row))\n",
    "\n",
    "    imagedf = data.drop_duplicates(subset=['fileid']).sort_values(by='fileid')\n",
    "    for row in imagedf.itertuples():\n",
    "        images.append(image(row))\n",
    "\n",
    "    catdf = data.drop_duplicates(subset=['categoryid']).sort_values(by='categoryid')\n",
    "    for row in catdf.itertuples():\n",
    "        categories.append(category(row))\n",
    "\n",
    "    data_coco = {}\n",
    "    data_coco[\"images\"] = images\n",
    "    data_coco[\"categories\"] = categories\n",
    "    data_coco[\"annotations\"] = annotations\n",
    "    json.dump(data_coco, open(save_json_path, \"w\"), indent=4)\n",
    "    print( save_json_path ,' file created...')"
   ]
  },
  {
   "cell_type": "code",
   "execution_count": null,
   "metadata": {},
   "outputs": [
    {
     "ename": "FileNotFoundError",
     "evalue": "[Errno 2] No such file or directory: 'test/train_coco.json'",
     "output_type": "error",
     "traceback": [
      "\u001b[0;31m---------------------------------------------------------------------------\u001b[0m",
      "\u001b[0;31mFileNotFoundError\u001b[0m                         Traceback (most recent call last)",
      "Cell \u001b[0;32mIn[8], line 1\u001b[0m\n\u001b[0;32m----> 1\u001b[0m \u001b[43mcreate_csv_to_coco\u001b[49m\u001b[43m(\u001b[49m\u001b[38;5;124;43mf\u001b[39;49m\u001b[38;5;124;43m'\u001b[39;49m\u001b[38;5;132;43;01m{\u001b[39;49;00m\u001b[43mdownload_path\u001b[49m\u001b[38;5;132;43;01m}\u001b[39;49;00m\u001b[38;5;124;43m/train/_annotations.csv\u001b[39;49m\u001b[38;5;124;43m'\u001b[39;49m\u001b[43m,\u001b[49m\u001b[43m \u001b[49m\n\u001b[1;32m      2\u001b[0m \u001b[43m                   \u001b[49m\u001b[38;5;124;43m'\u001b[39;49m\u001b[38;5;124;43mtest/train_coco.json\u001b[39;49m\u001b[38;5;124;43m'\u001b[39;49m\u001b[43m)\u001b[49m\n\u001b[1;32m      3\u001b[0m create_csv_to_coco(\u001b[38;5;124mf\u001b[39m\u001b[38;5;124m'\u001b[39m\u001b[38;5;132;01m{\u001b[39;00mdownload_path\u001b[38;5;132;01m}\u001b[39;00m\u001b[38;5;124m/valid/_annotations.csv\u001b[39m\u001b[38;5;124m'\u001b[39m, \n\u001b[1;32m      4\u001b[0m                    \u001b[38;5;124m'\u001b[39m\u001b[38;5;124mtest/valid_coco.json\u001b[39m\u001b[38;5;124m'\u001b[39m)\n\u001b[1;32m      5\u001b[0m create_csv_to_coco(\u001b[38;5;124mf\u001b[39m\u001b[38;5;124m'\u001b[39m\u001b[38;5;132;01m{\u001b[39;00mdownload_path\u001b[38;5;132;01m}\u001b[39;00m\u001b[38;5;124m/test/_annotations.csv\u001b[39m\u001b[38;5;124m'\u001b[39m, \n\u001b[1;32m      6\u001b[0m                    \u001b[38;5;124m'\u001b[39m\u001b[38;5;124mtest/test_coco.json\u001b[39m\u001b[38;5;124m'\u001b[39m)\n",
      "Cell \u001b[0;32mIn[7], line 67\u001b[0m, in \u001b[0;36mcreate_csv_to_coco\u001b[0;34m(path, save_json_path)\u001b[0m\n\u001b[1;32m     65\u001b[0m data_coco[\u001b[38;5;124m\"\u001b[39m\u001b[38;5;124mcategories\u001b[39m\u001b[38;5;124m\"\u001b[39m] \u001b[38;5;241m=\u001b[39m categories\n\u001b[1;32m     66\u001b[0m data_coco[\u001b[38;5;124m\"\u001b[39m\u001b[38;5;124mannotations\u001b[39m\u001b[38;5;124m\"\u001b[39m] \u001b[38;5;241m=\u001b[39m annotations\n\u001b[0;32m---> 67\u001b[0m json\u001b[38;5;241m.\u001b[39mdump(data_coco, \u001b[38;5;28;43mopen\u001b[39;49m\u001b[43m(\u001b[49m\u001b[43msave_json_path\u001b[49m\u001b[43m,\u001b[49m\u001b[43m \u001b[49m\u001b[38;5;124;43m\"\u001b[39;49m\u001b[38;5;124;43mw\u001b[39;49m\u001b[38;5;124;43m\"\u001b[39;49m\u001b[43m)\u001b[49m, indent\u001b[38;5;241m=\u001b[39m\u001b[38;5;241m4\u001b[39m)\n\u001b[1;32m     68\u001b[0m \u001b[38;5;28mprint\u001b[39m( save_json_path ,\u001b[38;5;124m'\u001b[39m\u001b[38;5;124m file created...\u001b[39m\u001b[38;5;124m'\u001b[39m)\n",
      "File \u001b[0;32m~/.local/lib/python3.10/site-packages/IPython/core/interactiveshell.py:324\u001b[0m, in \u001b[0;36m_modified_open\u001b[0;34m(file, *args, **kwargs)\u001b[0m\n\u001b[1;32m    317\u001b[0m \u001b[38;5;28;01mif\u001b[39;00m file \u001b[38;5;129;01min\u001b[39;00m {\u001b[38;5;241m0\u001b[39m, \u001b[38;5;241m1\u001b[39m, \u001b[38;5;241m2\u001b[39m}:\n\u001b[1;32m    318\u001b[0m     \u001b[38;5;28;01mraise\u001b[39;00m \u001b[38;5;167;01mValueError\u001b[39;00m(\n\u001b[1;32m    319\u001b[0m         \u001b[38;5;124mf\u001b[39m\u001b[38;5;124m\"\u001b[39m\u001b[38;5;124mIPython won\u001b[39m\u001b[38;5;124m'\u001b[39m\u001b[38;5;124mt let you open fd=\u001b[39m\u001b[38;5;132;01m{\u001b[39;00mfile\u001b[38;5;132;01m}\u001b[39;00m\u001b[38;5;124m by default \u001b[39m\u001b[38;5;124m\"\u001b[39m\n\u001b[1;32m    320\u001b[0m         \u001b[38;5;124m\"\u001b[39m\u001b[38;5;124mas it is likely to crash IPython. If you know what you are doing, \u001b[39m\u001b[38;5;124m\"\u001b[39m\n\u001b[1;32m    321\u001b[0m         \u001b[38;5;124m\"\u001b[39m\u001b[38;5;124myou can use builtins\u001b[39m\u001b[38;5;124m'\u001b[39m\u001b[38;5;124m open.\u001b[39m\u001b[38;5;124m\"\u001b[39m\n\u001b[1;32m    322\u001b[0m     )\n\u001b[0;32m--> 324\u001b[0m \u001b[38;5;28;01mreturn\u001b[39;00m \u001b[43mio_open\u001b[49m\u001b[43m(\u001b[49m\u001b[43mfile\u001b[49m\u001b[43m,\u001b[49m\u001b[43m \u001b[49m\u001b[38;5;241;43m*\u001b[39;49m\u001b[43margs\u001b[49m\u001b[43m,\u001b[49m\u001b[43m \u001b[49m\u001b[38;5;241;43m*\u001b[39;49m\u001b[38;5;241;43m*\u001b[39;49m\u001b[43mkwargs\u001b[49m\u001b[43m)\u001b[49m\n",
      "\u001b[0;31mFileNotFoundError\u001b[0m: [Errno 2] No such file or directory: 'test/train_coco.json'"
     ]
    }
   ],
   "source": [
    "create_csv_to_coco(f'{download_path}/train/_annotations.csv', \n",
    "                   'dataset/train_coco.json')\n",
    "create_csv_to_coco(f'{download_path}/valid/_annotations.csv', \n",
    "                   'dataset/valid_coco.json')\n",
    "create_csv_to_coco(f'{download_path}/test/_annotations.csv', \n",
    "                   'dataset/test_coco.json')"
   ]
  },
  {
   "cell_type": "code",
   "execution_count": null,
   "metadata": {},
   "outputs": [],
   "source": []
  },
  {
   "cell_type": "code",
   "execution_count": null,
   "metadata": {},
   "outputs": [],
   "source": []
  }
 ],
 "metadata": {
  "kernelspec": {
   "display_name": "Python 3",
   "language": "python",
   "name": "python3"
  },
  "language_info": {
   "codemirror_mode": {
    "name": "ipython",
    "version": 3
   },
   "file_extension": ".py",
   "mimetype": "text/x-python",
   "name": "python",
   "nbconvert_exporter": "python",
   "pygments_lexer": "ipython3",
   "version": "3.10.12"
  }
 },
 "nbformat": 4,
 "nbformat_minor": 2
}
