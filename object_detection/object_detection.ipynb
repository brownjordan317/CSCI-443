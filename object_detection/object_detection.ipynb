{
 "cells": [
  {
   "cell_type": "markdown",
   "metadata": {},
   "source": [
    "# Object Detection\n",
    "This notebook will serve as the primary means of documentation for creating an object detection model\n",
    "_______________________________________________________________________________________________________________________________________________\n",
    "\n",
    "### Full group includes:\n",
    "- Jordan Brown\n",
    "- Dylan Roy\n",
    "- Maxwell Barret\n",
    "- Julia Dewhurt\n",
    "\n",
    "### Primary notebook contributers:\n",
    "- \"\"\n",
    "- \"\"\n",
    "_______________________________________________________________________________________________________________________________________________\n",
    "\n",
    "***The primary notebook contributers are the group members who were assigned to this specific task. All group members will work in collaboration to create a final working product. However, the nature of this project calls for the full group to be assigned to primary tasks.***\n",
    "\n",
    "## Notebbook Goal/Purpose\n",
    "\n",
    "This notebook will be used to create a model for traffic based object detection. This will involve using labelled image and video feeds to determine what traffic objects look like. This model will hoepefully be able to detect and track traffic counts at individual intersections. This tracking will be used to create a dataset which can hopefully be used to train a traffic prediction for the traffic analysis portion of this project.\n",
    "_______________________________________________________________________________________________________________________________________________"
   ]
  },
  {
   "cell_type": "markdown",
   "metadata": {},
   "source": [
    "Code sells should use the following layout template\n",
    "```\n",
    "\"\"\"\n",
    "At the top will be a commment block\n",
    "this comment block will describe the\n",
    "primary purpose for the cells code.\n",
    "\"\"\"\n",
    "\n",
    "# A comment stating used libary(s)\n",
    "\n",
    "Code\n",
    "    Implementation\n",
    "        Goes\n",
    "            Here\n",
    "\n",
    "```"
   ]
  },
  {
   "cell_type": "code",
   "execution_count": null,
   "metadata": {},
   "outputs": [],
   "source": [
    "\"\"\"\n",
    "This cell will contain the import statements for the notebook.\n",
    "\"\"\""
   ]
  }
 ],
 "metadata": {
  "language_info": {
   "name": "python"
  }
 },
 "nbformat": 4,
 "nbformat_minor": 2
}
