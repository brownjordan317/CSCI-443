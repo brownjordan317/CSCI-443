{
 "cells": [
  {
   "cell_type": "code",
   "execution_count": 6,
   "metadata": {},
   "outputs": [],
   "source": [
    "from callable_implementation import write_csv\n",
    "from callable_implementation import process_image\n",
    "from callable_implementation import get_dt_info\n",
    "from callable_implementation import load_model\n",
    "from callable_implementation import load_tensor_img\n",
    "\n",
    "import os\n",
    "# import tqdm for notebook progress bars\n",
    "from tqdm.notebook import tqdm"
   ]
  },
  {
   "cell_type": "code",
   "execution_count": 7,
   "metadata": {},
   "outputs": [],
   "source": [
    "directory_path = 'video_frames_30fps'\n",
    "# Get a list of image files in the directory\n",
    "image_files = [f for f in os.listdir(directory_path) if f.endswith(('.jpg', '.png', '.jpeg'))]\n",
    "output_path = 'preds_30fps'\n",
    "model, vehicle_classes, device = load_model()\n",
    "\n",
    "if not os.path.exists(output_path):\n",
    "        os.makedirs(output_path)\n",
    "        "
   ]
  },
  {
   "cell_type": "code",
   "execution_count": 8,
   "metadata": {},
   "outputs": [
    {
     "data": {
      "application/vnd.jupyter.widget-view+json": {
       "model_id": "5aa265b573004662a54ac6942c4141eb",
       "version_major": 2,
       "version_minor": 0
      },
      "text/plain": [
       "Processing images:   0%|          | 0/1438 [00:00<?, ?it/s]"
      ]
     },
     "metadata": {},
     "output_type": "display_data"
    }
   ],
   "source": [
    "# Loop through each image in the directory with a tqdm progress bar\n",
    "for image_num, image_file in tqdm(enumerate(image_files),\n",
    "                                  total=len(image_files), \n",
    "                                  desc=\"Processing images\"):\n",
    "    image_path = os.path.join(directory_path, image_file)\n",
    "    image_base_name = os.path.basename(image_path).split('.')[0]\n",
    "    outfile_name = f'{image_base_name}.jpg'\n",
    "    \n",
    "    \n",
    "    img, img_tensor = load_tensor_img(image_path, device)\n",
    "    data = process_image(model, \n",
    "                         vehicle_classes, \n",
    "                         img, \n",
    "                         img_tensor, \n",
    "                         output_path, \n",
    "                         outfile_name)\n",
    "    \n",
    "    time, day = get_dt_info()\n",
    "    data[\"Time\"] = time\n",
    "    data[\"Day of the week\"] = day\n",
    "    write_csv(data, \"predictions_long.csv\")\n",
    "    "
   ]
  }
 ],
 "metadata": {
  "kernelspec": {
   "display_name": "Python 3",
   "language": "python",
   "name": "python3"
  },
  "language_info": {
   "codemirror_mode": {
    "name": "ipython",
    "version": 3
   },
   "file_extension": ".py",
   "mimetype": "text/x-python",
   "name": "python",
   "nbconvert_exporter": "python",
   "pygments_lexer": "ipython3",
   "version": "3.10.12"
  }
 },
 "nbformat": 4,
 "nbformat_minor": 2
}
