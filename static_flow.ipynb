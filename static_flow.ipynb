{
 "cells": [
  {
   "cell_type": "code",
   "execution_count": 5,
   "metadata": {},
   "outputs": [],
   "source": [
    "from object_detection.callable_implementation import write_csv\n",
    "from object_detection.callable_implementation import process_image\n",
    "from object_detection.callable_implementation import get_dt_info\n",
    "from object_detection.callable_implementation import load_model\n",
    "from object_detection.callable_implementation import load_tensor_img\n",
    "from object_detection.render_video import images_to_video_ffmpeg\n",
    "\n",
    "import requests\n",
    "import cv2\n",
    "import numpy as np\n",
    "import imutils\n",
    "import time\n",
    "import os\n",
    "import threading\n",
    "from queue import Queue\n",
    "import shutil\n",
    "from tqdm.notebook import tqdm"
   ]
  },
  {
   "cell_type": "code",
   "execution_count": 6,
   "metadata": {},
   "outputs": [],
   "source": [
    "# load the model\n",
    "model, vehicle_classes, device = load_model()"
   ]
  },
  {
   "cell_type": "code",
   "execution_count": 7,
   "metadata": {},
   "outputs": [],
   "source": [
    "input_folder = '/home/brownjordan317/fall_2024/CSCI443/Github/CSCI-443/object_detection/right'\n",
    "output_folder = 'preds_30fps_right'\n",
    "csv_name = 'preds_30fps_right.csv'\n",
    "\n",
    "# create the output directory if it doesn't exist\n",
    "if not os.path.exists(output_folder):\n",
    "    os.makedirs(output_folder)"
   ]
  },
  {
   "cell_type": "code",
   "execution_count": 8,
   "metadata": {},
   "outputs": [
    {
     "data": {
      "application/vnd.jupyter.widget-view+json": {
       "model_id": "3e09a46be4e94f76b4b9c3e25ad3350f",
       "version_major": 2,
       "version_minor": 0
      },
      "text/plain": [
       "  0%|          | 0/1438 [00:00<?, ?it/s]"
      ]
     },
     "metadata": {},
     "output_type": "display_data"
    }
   ],
   "source": [
    "image_files = [f for f in os.listdir(input_folder) if f.endswith(('.jpg', '.png', '.jpeg'))]\n",
    "\n",
    "for image_file in tqdm(image_files):\n",
    "    # Load the image\n",
    "    image_path = os.path.join(input_folder, image_file)\n",
    "    img, img_tensor = load_tensor_img(image_path, device)\n",
    "    data, out_image = process_image(model, vehicle_classes, img, img_tensor, output_folder, output_filename=image_file)\n",
    "    time, day = get_dt_info()\n",
    "    data[\"Time\"] = time\n",
    "    data[\"Day of the week\"] = day\n",
    "    write_csv(data, csv_name)\n",
    "    # send data to model"
   ]
  }
 ],
 "metadata": {
  "kernelspec": {
   "display_name": "Python 3",
   "language": "python",
   "name": "python3"
  },
  "language_info": {
   "codemirror_mode": {
    "name": "ipython",
    "version": 3
   },
   "file_extension": ".py",
   "mimetype": "text/x-python",
   "name": "python",
   "nbconvert_exporter": "python",
   "pygments_lexer": "ipython3",
   "version": "3.10.12"
  }
 },
 "nbformat": 4,
 "nbformat_minor": 2
}
