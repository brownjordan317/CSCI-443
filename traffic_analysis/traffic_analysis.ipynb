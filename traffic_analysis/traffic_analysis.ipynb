{
 "cells": [
  {
   "cell_type": "markdown",
   "metadata": {},
   "source": [
    "# Traffic Analysis\n",
    "This notebook will serve as the primary means of documentation for creating a traffic analysis model\n",
    "\n",
    "_______________________________________________________________________________________________________________________________________________\n",
    "\n",
    "### Full group includes:\n",
    "- Jordan Brown\n",
    "- Dylan Roy\n",
    "- Maxwell Barret\n",
    "- Julia Dewhurt\n",
    "\n",
    "### Primary notebook contributers:\n",
    "\n",
    "***The primary notebook contributers are the group members who were assigned to this specific task. All group members will work in collaboration to create a final working product. However, the nature of this project calls for the full group to be assigned to primary tasks.***\n",
    "\n",
    "- \"\"\n",
    "- \"\"\n",
    "_______________________________________________________________________________________________________________________________________________\n",
    "\n",
    "## Notebook Goal/Purpose\n",
    "\n",
    "This notebook will be used to develop and test a model for analyzing and predicting the flow of traffic. This will involve data visualization, feature selection, and baseline comparison. The final intent for the dataloader is that this method will be able to take information from our object detection dataset and use that train local traffic systems on an ever increasing dataset. This will hopefully allow for improved traffic flow and a better understanding of the area for future city planning.\n",
    "_______________________________________________________________________________________________________________________________________________"
   ]
  },
  {
   "cell_type": "markdown",
   "metadata": {},
   "source": [
    "## Code Cells should use the following layout template\n",
    "\n",
    "```\n",
    "\"\"\"\n",
    "At the top will be a commment block\n",
    "this comment block will describe the\n",
    "primary purpose for the cells code.\n",
    "\"\"\"\n",
    "\n",
    "# A comment stating used libary(s)\n",
    "\n",
    "Code\n",
    "    Implementation\n",
    "        Goes\n",
    "            Here\n",
    "\n",
    "```"
   ]
  },
  {
   "cell_type": "code",
   "execution_count": null,
   "metadata": {},
   "outputs": [],
   "source": [
    "\"\"\"\n",
    "This cell will contain the import statements for the notebook.\n",
    "\"\"\""
   ]
  }
 ],
 "metadata": {
  "language_info": {
   "name": "python"
  }
 },
 "nbformat": 4,
 "nbformat_minor": 2
}
