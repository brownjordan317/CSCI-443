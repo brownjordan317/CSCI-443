{
 "cells": [
  {
   "cell_type": "code",
   "execution_count": null,
   "metadata": {},
   "outputs": [],
   "source": [
    "import pandas as pd\n",
    "import matplotlib.pyplot as plt\n",
    "from sklearn.model_selection import train_test_split\n",
    "from sklearn.preprocessing import LabelEncoder, StandardScaler\n",
    "from sklearn.ensemble import RandomForestClassifier, GradientBoostingClassifier\n",
    "from sklearn.tree import DecisionTreeClassifier\n",
    "from sklearn.svm import SVC\n",
    "from sklearn.neighbors import KNeighborsClassifier\n",
    "from sklearn.linear_model import LogisticRegression\n",
    "from sklearn.metrics import accuracy_score, classification_report, confusion_matrix, ConfusionMatrixDisplay"
   ]
  },
  {
   "cell_type": "code",
   "execution_count": null,
   "metadata": {},
   "outputs": [],
   "source": [
    "df_train = pd.read_csv(\"TrafficTwoMonth.csv\")\n",
    "df_pred = pd.read_csv(\"predictions.csv\")"
   ]
  },
  {
   "cell_type": "code",
   "execution_count": null,
   "metadata": {},
   "outputs": [],
   "source": [
    "#get rid of the date in the time column\n",
    "def convert_to_military_time(time_str):\n",
    "    try:\n",
    "        # Try to parse as 12-hour format\n",
    "        return pd.to_datetime(time_str, format='%I:%M:%S %p').strftime('%H:%M:%S')\n",
    "    except ValueError:\n",
    "        return pd.to_datetime(time_str, format='%H:%M:%S').strftime('%H:%M:%S')\n",
    "\n",
    "df_train['Time'] = df_train['Time'].apply(convert_to_military_time)\n",
    "\n",
    "#replace string attributes with numerical values in the Time column to use it in the model\n",
    "df_train['Time'] = df_train['Time'].str.replace(':', '').astype(int)\n",
    "\n",
    "# display new time column\n",
    "df_train['Time'].head()"
   ]
  }
 ],
 "metadata": {
  "kernelspec": {
   "display_name": "Python 3",
   "language": "python",
   "name": "python3"
  },
  "language_info": {
   "name": "python",
   "version": "3.10.11"
  }
 },
 "nbformat": 4,
 "nbformat_minor": 2
}
