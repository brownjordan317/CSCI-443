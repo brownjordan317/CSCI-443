{
 "cells": [
  {
   "cell_type": "code",
   "execution_count": 28,
   "metadata": {},
   "outputs": [],
   "source": [
    "import pandas as pd\n",
    "import matplotlib.pyplot as plt\n",
    "from sklearn.model_selection import train_test_split\n",
    "from sklearn.preprocessing import LabelEncoder\n",
    "from sklearn.metrics import accuracy_score, classification_report, confusion_matrix, ConfusionMatrixDisplay\n",
    "from sklearn.ensemble import RandomForestClassifier"
   ]
  },
  {
   "cell_type": "code",
   "execution_count": 30,
   "metadata": {},
   "outputs": [
    {
     "name": "stdout",
     "output_type": "stream",
     "text": [
      "          Time Day of the week  CarCount  BikeCount  BusCount  TruckCount  \\\n",
      "0  12:00:00 AM         Tuesday        13          2         2          24   \n",
      "1  12:15:00 AM         Tuesday        14          1         1          36   \n",
      "2  12:30:00 AM         Tuesday        10          2         2          32   \n",
      "3  12:45:00 AM         Tuesday        10          2         2          36   \n",
      "4   1:00:00 AM         Tuesday        11          2         1          34   \n",
      "\n",
      "   Total Traffic Situation  \n",
      "0     41            normal  \n",
      "1     52            normal  \n",
      "2     46            normal  \n",
      "3     50            normal  \n",
      "4     48            normal  \n",
      "     Time Day of the week  CarCount  BikeCount  BusCount  TruckCount  Total\n",
      "0  170000         Tuesday        29          0         0           0     29\n",
      "1  170015         Tuesday        23          0         0           1     24\n",
      "2  170030         Tuesday        24          0         0           3     27\n",
      "3  170045         Tuesday        29          0         0           2     31\n",
      "4  170100         Tuesday        20          0         0           2     22\n"
     ]
    }
   ],
   "source": [
    "df_train = pd.read_csv(\"TrafficTwoMonth.csv\")\n",
    "df_pred = pd.read_csv(\"predictions2.csv\")\n",
    "\n",
    "df_train.drop(columns=[\"Date\"], inplace=True)\n",
    "\n",
    "print(df_train.head())\n",
    "print(df_pred.head())"
   ]
  },
  {
   "cell_type": "code",
   "execution_count": 31,
   "metadata": {},
   "outputs": [
    {
     "data": {
      "text/plain": [
       "0        0\n",
       "1     1500\n",
       "2     3000\n",
       "3     4500\n",
       "4    10000\n",
       "Name: Time, dtype: int32"
      ]
     },
     "execution_count": 31,
     "metadata": {},
     "output_type": "execute_result"
    }
   ],
   "source": [
    "#get rid of the date in the time column\n",
    "def convert_to_military_time(time_str):\n",
    "    try:\n",
    "        # Try to parse as 12-hour format\n",
    "        return pd.to_datetime(time_str, format='%I:%M:%S %p').strftime('%H:%M:%S')\n",
    "    except ValueError:\n",
    "        return pd.to_datetime(time_str, format='%H:%M:%S').strftime('%H:%M:%S')\n",
    "\n",
    "df_train['Time'] = df_train['Time'].apply(convert_to_military_time)\n",
    "\n",
    "#replace string attributes with numerical values in the Time column to use it in the model\n",
    "df_train['Time'] = df_train['Time'].str.replace(':', '').astype(int)\n",
    "\n",
    "# display new time column\n",
    "df_train['Time'].head()"
   ]
  },
  {
   "cell_type": "code",
   "execution_count": 32,
   "metadata": {},
   "outputs": [
    {
     "name": "stdout",
     "output_type": "stream",
     "text": [
      "    Time Day of the week  CarCount  BikeCount  BusCount  TruckCount  Total  \\\n",
      "0      0         Tuesday         2          1         1           3      7   \n",
      "1   1500         Tuesday         2          1         1           4      8   \n",
      "2   3000         Tuesday         1          1         1           4      7   \n",
      "3   4500         Tuesday         1          1         1           4      7   \n",
      "4  10000         Tuesday         2          1         1           4      8   \n",
      "\n",
      "  Traffic Situation  \n",
      "0            normal  \n",
      "1            normal  \n",
      "2            normal  \n",
      "3            normal  \n",
      "4            normal  \n"
     ]
    }
   ],
   "source": [
    "import math\n",
    "#divide all car counts and total by 10\n",
    "#df_train['Total'] = df_train['Total'] / 10\n",
    "df_train['CarCount'] = df_train['CarCount'] / 10\n",
    "df_train['TruckCount'] = df_train['TruckCount'] / 10\n",
    "df_train['BusCount'] = df_train['BusCount'] / 10\n",
    "df_train['BikeCount'] = df_train['BikeCount'] / 10  \n",
    "\n",
    "#round all values to the nearest whole number\n",
    "df_train['CarCount'] = df_train['CarCount'].apply(lambda x: math.ceil(x))\n",
    "df_train['TruckCount'] = df_train['TruckCount'].apply(lambda x: math.ceil(x))\n",
    "df_train['BusCount'] = df_train['BusCount'].apply(lambda x: math.ceil(x))\n",
    "df_train['BikeCount'] = df_train['BikeCount'].apply(lambda x: math.ceil(x))\n",
    "\n",
    "#sum all the counts to get the total\n",
    "df_train['Total'] = df_train['CarCount'] + df_train['TruckCount'] + df_train['BusCount'] + df_train['BikeCount']\n",
    "\n",
    "#display new values\n",
    "print(df_train.head())\n"
   ]
  },
  {
   "cell_type": "code",
   "execution_count": 33,
   "metadata": {},
   "outputs": [],
   "source": [
    "#label encoding - use this on categorical data\n",
    "Le = LabelEncoder()\n",
    "df_train['Day of the week'] = Le.fit_transform(df_train['Day of the week'])\n",
    "\n",
    "# Handle missing categories in df_pred\n",
    "valid_categories = set(Le.classes_)\n",
    "df_pred = df_pred[df_pred['Day of the week'].isin(valid_categories)]\n",
    "\n",
    "# Re-apply LabelEncoder after fixing\n",
    "df_pred['Day of the week'] = Le.transform(df_pred['Day of the week'])\n",
    "\n",
    "\n",
    "#create our X and y variables for the model\n",
    "X = df_train.drop(columns=[\"Traffic Situation\"]) #features\n",
    "y = df_train[\"Traffic Situation\"] #target variable\n",
    "\n",
    "#label encoding for the target variable\n",
    "y = Le.fit_transform(y)\n",
    "\n",
    "#split the data into training and testing sets\n",
    "X_train, X_test, y_train, y_test = train_test_split(X, y, test_size=0.3, random_state=42)\n",
    "\n",
    "X_pred = df_pred"
   ]
  },
  {
   "cell_type": "code",
   "execution_count": 38,
   "metadata": {},
   "outputs": [
    {
     "name": "stdout",
     "output_type": "stream",
     "text": [
      "Accuracy: 90.76%\n",
      "              precision    recall  f1-score   support\n",
      "\n",
      "           0       0.94      0.96      0.95       333\n",
      "           1       0.93      0.66      0.77       122\n",
      "           2       0.74      0.87      0.80       217\n",
      "           3       0.94      0.93      0.93      1114\n",
      "\n",
      "    accuracy                           0.91      1786\n",
      "   macro avg       0.89      0.85      0.86      1786\n",
      "weighted avg       0.91      0.91      0.91      1786\n",
      "\n"
     ]
    },
    {
     "data": {
      "image/png": "[encoded data removed]",
      "text/plain": [
       "<Figure size 640x480 with 2 Axes>"
      ]
     },
     "metadata": {},
     "output_type": "display_data"
    }
   ],
   "source": [
    "#train the model\n",
    "model = RandomForestClassifier(random_state=42, n_estimators=2000, criterion=\"gini\", max_depth=10) \n",
    "model.fit(X_train, y_train)\n",
    "\n",
    "#make predictions\n",
    "y_pred = model.predict(X_test)\n",
    "\n",
    "#evaluate the model\n",
    "accuracy = accuracy_score(y_test, y_pred)\n",
    "print(\"Accuracy: {:.2f}%\".format(accuracy * 100))\n",
    "\n",
    "print(classification_report(y_test, y_pred))\n",
    "\n",
    "cm = confusion_matrix(y_test, y_pred)\n",
    "disp = ConfusionMatrixDisplay(confusion_matrix=cm)\n",
    "disp.plot(cmap=\"Reds\")\n",
    "plt.title(\"Random Forest Confusion Matrix\")\n",
    "plt.show()"
   ]
  },
  {
   "cell_type": "code",
   "execution_count": 14,
   "metadata": {},
   "outputs": [
    {
     "name": "stdout",
     "output_type": "stream",
     "text": [
      "['heavy' 'high' 'low' 'normal']\n"
     ]
    }
   ],
   "source": [
    "#print the label encoding variables in correlation with number\n",
    "print(Le.classes_)"
   ]
  },
  {
   "cell_type": "code",
   "execution_count": 21,
   "metadata": {},
   "outputs": [],
   "source": [
    "predictions = model.predict(X_pred)\n",
    "\n",
    "#inverse transform the predictions to get the original string values\n",
    "predictions = Le.inverse_transform(predictions)\n",
    "\n",
    "output = pd.DataFrame(predictions, columns=['Traffic Situation'])\n",
    "\n",
    "title_for_csv = input(\"Enter a title for the csv file: \")\n",
    "output.to_csv(\"predictions_made_from_predictions.csv\", index=False)"
   ]
  }
 ],
 "metadata": {
  "kernelspec": {
   "display_name": "Python 3",
   "language": "python",
   "name": "python3"
  },
  "language_info": {
   "codemirror_mode": {
    "name": "ipython",
    "version": 3
   },
   "file_extension": ".py",
   "mimetype": "text/x-python",
   "name": "python",
   "nbconvert_exporter": "python",
   "pygments_lexer": "ipython3",
   "version": "3.10.11"
  }
 },
 "nbformat": 4,
 "nbformat_minor": 2
}
