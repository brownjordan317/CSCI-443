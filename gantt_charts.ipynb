{
 "cells": [
  {
   "cell_type": "markdown",
   "metadata": {},
   "source": [
    "# Gantt Charts\n",
    "\n",
    "This notebook will host some gantt charts for us to use and modify"
   ]
  },
  {
   "cell_type": "code",
   "execution_count": 4,
   "metadata": {},
   "outputs": [],
   "source": [
    "'''\n",
    "This cell will be used to import the necessary Libraries\n",
    "'''\n",
    "\n",
    "import plotly.express as px\n",
    "import pandas as pd"
   ]
  },
  {
   "cell_type": "code",
   "execution_count": 2,
   "metadata": {},
   "outputs": [],
   "source": [
    "'''\n",
    "This cell will be used to add tasks to our gantt chart\n",
    "Below is a started example that also includes some things\n",
    "we have done/ will do\n",
    "\n",
    "'''\n",
    "\n",
    "# import pandas as pd\n",
    "\n",
    "# Create DataFrame with Percent Complete\n",
    "df = pd.DataFrame([\n",
    "    dict(Task=\"Example Job A\", Start='2024-10-08', Finish='2024-10-18', Resource=\"Object Detection\", PercentComplete=50),\n",
    "    dict(Task=\"Example Job B\", Start='2024-10-10', Finish='2024-10-21', Resource=\"Traffic Analysis\", PercentComplete=30),\n",
    "    dict(Task=\"Project Synopsis\", Start='2024-09-27', Finish='2024-10-08', Resource=\"Both\", PercentComplete=100),\n",
    "    dict(Task=\"Project Proposal\", Start='2024-10-08', Finish='2024-10-18', Resource=\"Both\", PercentComplete=50)\n",
    "])\n",
    "\n"
   ]
  },
  {
   "cell_type": "code",
   "execution_count": null,
   "metadata": {},
   "outputs": [],
   "source": [
    "'''\n",
    "This cell will be used to create the gantt chart\n",
    "'''\n",
    "\n",
    "# import plotly.express as px\n",
    "\n",
    "# Create Gantt chart\n",
    "fig = px.timeline(df, x_start=\"Start\", x_end=\"Finish\", y=\"Task\", color=\"Resource\", text=\"PercentComplete\")\n",
    "\n",
    "# Add dense crosshatch lines to represent percent complete\n",
    "for i, row in df.iterrows():\n",
    "    start_date = pd.to_datetime(row['Start'])\n",
    "    finish_date = pd.to_datetime(row['Finish'])\n",
    "    duration = finish_date - start_date\n",
    "    percent_done = row['PercentComplete']\n",
    "    \n",
    "    # Create more dense crosshatch lines (spacing)\n",
    "    num_lines = 20  # Increase this for denser crosshatches\n",
    "    interval = duration / num_lines\n",
    "    \n",
    "    # Add diagonal lines (bottom-left to top-right)\n",
    "    for j in range(int(percent_done * num_lines)):\n",
    "        # Calculate the date for the cross line\n",
    "        line_position = start_date + j * interval\n",
    "        fig.add_shape(\n",
    "            type=\"line\",\n",
    "            x0=line_position,\n",
    "            y0=i - 0.4,\n",
    "            x1=line_position + pd.Timedelta(days=1),  # Diagonal direction\n",
    "            y1=i + 0.4,\n",
    "            line=dict(color=\"black\", width=2)\n",
    "        )\n",
    "    \n",
    "    # Add diagonal lines (bottom-right to top-left)\n",
    "    for j in range(int(percent_done * num_lines)):\n",
    "        # Calculate the date for the cross line\n",
    "        line_position = start_date + j * interval\n",
    "        fig.add_shape(\n",
    "            type=\"line\",\n",
    "            x0=line_position,\n",
    "            y0=i + 0.4,\n",
    "            x1=line_position + pd.Timedelta(days=1),  # Diagonal opposite direction\n",
    "            y1=i - 0.4,\n",
    "            line=dict(color=\"black\", width=2)\n",
    "        )\n",
    "\n",
    "fig.update_yaxes(autorange=\"reversed\")\n",
    "fig.update_layout(title=\"CSCI-443 Gantt Chart with Crosshatch Percent Completion (Both Directions)\")\n",
    "fig.show()"
   ]
  }
 ],
 "metadata": {
  "kernelspec": {
   "display_name": "Python 3",
   "language": "python",
   "name": "python3"
  },
  "language_info": {
   "codemirror_mode": {
    "name": "ipython",
    "version": 3
   },
   "file_extension": ".py",
   "mimetype": "text/x-python",
   "name": "python",
   "nbconvert_exporter": "python",
   "pygments_lexer": "ipython3",
   "version": "3.10.12"
  }
 },
 "nbformat": 4,
 "nbformat_minor": 2
}
